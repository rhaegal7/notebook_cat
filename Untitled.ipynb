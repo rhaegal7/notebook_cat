{
 "cells": [
  {
   "cell_type": "code",
   "execution_count": 1,
   "metadata": {},
   "outputs": [],
   "source": [
    "import json"
   ]
  },
  {
   "cell_type": "code",
   "execution_count": 3,
   "metadata": {},
   "outputs": [
    {
     "name": "stdout",
     "output_type": "stream",
     "text": [
      "['-f', 'C:\\\\Users\\\\64630\\\\AppData\\\\Roaming\\\\jupyter\\\\runtime\\\\kernel-9ba0b98c-290e-4952-8d17-862befbf58bc.json']\n"
     ]
    }
   ],
   "source": [
    "import json\n",
    "import sys\n",
    "\n",
    "# handle argument exceptions\n",
    "if len(sys.argv) < 3:\n",
    "    raise Exception('参数数量必须大于 2！')\n",
    "\n",
    "\n",
    "# accept argument list\n",
    "notebook_path_lst = sys.argv[1:]\n",
    "\n",
    "print(notebook_path_lst)\n"
   ]
  },
  {
   "cell_type": "code",
   "execution_count": null,
   "metadata": {},
   "outputs": [],
   "source": [
    "# target_notebook = {}\n",
    "# cells_lst = []\n",
    "\n",
    "# # read notebook path list\n",
    "# for path in notebook_path_lst:\n",
    "#     with open(path) as notebook:\n",
    "#         notebook_str = notebook.read()\n",
    "#         notebook_json = json.loads(notebook_str)\n",
    "#         cells = notebook_json['cells']\n",
    "#         cells_lst += cells\n",
    "\n",
    "# target_notebook['cells'] = cells_lst\n",
    "\n",
    "# with open(notebook_path_lst[0]) as notebook:\n",
    "#     notebook_str = notebook.read()\n",
    "#     notebook_json = json.loads(notebook_str)\n",
    "    \n",
    "# print(notebook_json)\n",
    "\n",
    "# del notebook1_json['cells']\n",
    "\n",
    "\n",
    "\n",
    "\n",
    "# # target_notebook['cells'] = target_cell\n",
    "# target_notebook.update(notebook1_json)\n",
    "\n",
    "# target_str = json.dumps(target_notebook)\n",
    "\n",
    "\n",
    "\n",
    "# target = open('target_notebook.ipynb', 'w')\n",
    "# target.write(target_str)"
   ]
  }
 ],
 "metadata": {
  "kernelspec": {
   "display_name": "Python 3",
   "language": "python",
   "name": "python3"
  },
  "language_info": {
   "codemirror_mode": {
    "name": "ipython",
    "version": 3
   },
   "file_extension": ".py",
   "mimetype": "text/x-python",
   "name": "python",
   "nbconvert_exporter": "python",
   "pygments_lexer": "ipython3",
   "version": "3.5.5"
  }
 },
 "nbformat": 4,
 "nbformat_minor": 2
}
